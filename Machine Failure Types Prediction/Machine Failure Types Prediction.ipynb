{
 "cells": [
  {
   "cell_type": "markdown",
   "id": "6bfca223",
   "metadata": {},
   "source": [
    "## 1. Import Libraries "
   ]
  },
  {
   "cell_type": "code",
   "execution_count": 1,
   "id": "812cd0da",
   "metadata": {},
   "outputs": [],
   "source": [
    "# import libraries\n",
    "import numpy as np\n",
    "import pandas as pd\n",
    "import matplotlib.pyplot as plt\n",
    "import seaborn as sns\n",
    "from imblearn.over_sampling import SMOTENC\n",
    "from sklearn.model_selection import train_test_split"
   ]
  },
  {
   "cell_type": "markdown",
   "id": "52f3044b",
   "metadata": {},
   "source": [
    "## 2. Load Dataset"
   ]
  },
  {
   "cell_type": "code",
   "execution_count": 2,
   "id": "6da361c6",
   "metadata": {},
   "outputs": [
    {
     "data": {
      "text/html": [
       "<div>\n",
       "<style scoped>\n",
       "    .dataframe tbody tr th:only-of-type {\n",
       "        vertical-align: middle;\n",
       "    }\n",
       "\n",
       "    .dataframe tbody tr th {\n",
       "        vertical-align: top;\n",
       "    }\n",
       "\n",
       "    .dataframe thead th {\n",
       "        text-align: right;\n",
       "    }\n",
       "</style>\n",
       "<table border=\"1\" class=\"dataframe\">\n",
       "  <thead>\n",
       "    <tr style=\"text-align: right;\">\n",
       "      <th></th>\n",
       "      <th>Air temperature [K]</th>\n",
       "      <th>Process temperature [K]</th>\n",
       "      <th>Rotational speed [rpm]</th>\n",
       "      <th>Torque [Nm]</th>\n",
       "      <th>Tool wear [min]</th>\n",
       "      <th>Failure Type</th>\n",
       "    </tr>\n",
       "  </thead>\n",
       "  <tbody>\n",
       "    <tr>\n",
       "      <th>0</th>\n",
       "      <td>298.9</td>\n",
       "      <td>309.1</td>\n",
       "      <td>2861</td>\n",
       "      <td>4.6</td>\n",
       "      <td>143</td>\n",
       "      <td>Power Failure</td>\n",
       "    </tr>\n",
       "    <tr>\n",
       "      <th>1</th>\n",
       "      <td>298.9</td>\n",
       "      <td>309.0</td>\n",
       "      <td>1410</td>\n",
       "      <td>65.7</td>\n",
       "      <td>191</td>\n",
       "      <td>Power Failure</td>\n",
       "    </tr>\n",
       "  </tbody>\n",
       "</table>\n",
       "</div>"
      ],
      "text/plain": [
       "   Air temperature [K]  Process temperature [K]  Rotational speed [rpm]  \\\n",
       "0                298.9                    309.1                    2861   \n",
       "1                298.9                    309.0                    1410   \n",
       "\n",
       "   Torque [Nm]  Tool wear [min]   Failure Type  \n",
       "0          4.6              143  Power Failure  \n",
       "1         65.7              191  Power Failure  "
      ]
     },
     "execution_count": 2,
     "metadata": {},
     "output_type": "execute_result"
    }
   ],
   "source": [
    "# load data\n",
    "df = pd.read_excel('machine_data.xlsx')\n",
    "df.head(2)"
   ]
  },
  {
   "cell_type": "markdown",
   "id": "e5289993",
   "metadata": {},
   "source": [
    "## 3. Data Preprocessing"
   ]
  },
  {
   "cell_type": "markdown",
   "id": "6297077f",
   "metadata": {},
   "source": [
    "### Data Exploration"
   ]
  },
  {
   "cell_type": "code",
   "execution_count": 3,
   "id": "abf94e9c",
   "metadata": {},
   "outputs": [
    {
     "name": "stdout",
     "output_type": "stream",
     "text": [
      "<class 'pandas.core.frame.DataFrame'>\n",
      "RangeIndex: 355 entries, 0 to 354\n",
      "Data columns (total 6 columns):\n",
      " #   Column                   Non-Null Count  Dtype  \n",
      "---  ------                   --------------  -----  \n",
      " 0   Air temperature [K]      355 non-null    float64\n",
      " 1   Process temperature [K]  355 non-null    float64\n",
      " 2   Rotational speed [rpm]   355 non-null    int64  \n",
      " 3   Torque [Nm]              355 non-null    float64\n",
      " 4   Tool wear [min]          355 non-null    int64  \n",
      " 5   Failure Type             355 non-null    object \n",
      "dtypes: float64(3), int64(2), object(1)\n",
      "memory usage: 16.8+ KB\n"
     ]
    }
   ],
   "source": [
    "df.info()"
   ]
  },
  {
   "cell_type": "code",
   "execution_count": 4,
   "id": "5302f007",
   "metadata": {},
   "outputs": [
    {
     "data": {
      "text/plain": [
       "Heat Dissipation Failure    125\n",
       "Power Failure                98\n",
       "Overstrain Failure           82\n",
       "Tool Wear Failure            50\n",
       "Name: Failure Type, dtype: int64"
      ]
     },
     "execution_count": 4,
     "metadata": {},
     "output_type": "execute_result"
    }
   ],
   "source": [
    "df['Failure Type'].value_counts()"
   ]
  },
  {
   "cell_type": "code",
   "execution_count": 5,
   "id": "aa22b4d5",
   "metadata": {},
   "outputs": [
    {
     "data": {
      "text/plain": [
       "<function matplotlib.pyplot.show(close=None, block=None)>"
      ]
     },
     "execution_count": 5,
     "metadata": {},
     "output_type": "execute_result"
    },
    {
     "data": {
      "image/png": "[encoded data removed]",
      "text/plain": [
       "<Figure size 640x480 with 1 Axes>"
      ]
     },
     "metadata": {},
     "output_type": "display_data"
    }
   ],
   "source": [
    "# Generate the number\n",
    "n = df.shape[0]\n",
    "df_percentage = 100*df['Failure Type'].value_counts()/df['Failure Type'].shape[0]\n",
    "\n",
    "# Show Failure Distribution with Pie Chart\n",
    "plt.title('Distribution of Failure Type Percentage')\n",
    "plt.pie(x=df_percentage.array, labels=df_percentage.index.array,\n",
    "       colors=sns.color_palette('tab10')[0:4], autopct='%.0f%%')\n",
    "plt.show"
   ]
  },
  {
   "cell_type": "markdown",
   "id": "746ea113",
   "metadata": {},
   "source": [
    "### Covert Data Types"
   ]
  },
  {
   "cell_type": "code",
   "execution_count": 6,
   "id": "50119018",
   "metadata": {},
   "outputs": [],
   "source": [
    "# Set numeric columns to float data type\n",
    "df['Tool wear [min]'] = df ['Tool wear [min]'].astype('float64')\n",
    "df['Rotational speed [rpm]'] = df['Rotational speed [rpm]'].astype('float64')\n",
    "\n",
    "#rename features column\n",
    "df.rename(mapper={'Air temperature [K]': 'Air temperature',\n",
    "                  'Process temperature [K]': 'Process temperature',\n",
    "                  'Rotational speed [rpm]': 'Rotational speed',\n",
    "                  'Torque [Nm]': 'Torque',\n",
    "                  'Tool wear [min]': 'Tool wear'\n",
    "                 }, axis = 1, inplace=True)"
   ]
  },
  {
   "cell_type": "markdown",
   "id": "d4d5fc3f",
   "metadata": {},
   "source": [
    "### Remove Duplicates"
   ]
  },
  {
   "cell_type": "code",
   "execution_count": 7,
   "id": "a7c323c8",
   "metadata": {},
   "outputs": [
    {
     "data": {
      "text/plain": [
       "False"
      ]
     },
     "execution_count": 7,
     "metadata": {},
     "output_type": "execute_result"
    }
   ],
   "source": [
    "# Check Duplicate Value\n",
    "df.duplicated().any()"
   ]
  },
  {
   "cell_type": "code",
   "execution_count": 8,
   "id": "622e0689",
   "metadata": {},
   "outputs": [],
   "source": [
    "# Drop duplicate if exist\n",
    "# df = df.drop_duplicates()"
   ]
  },
  {
   "cell_type": "markdown",
   "id": "b3feb413",
   "metadata": {},
   "source": [
    "### Handling Missing Values"
   ]
  },
  {
   "cell_type": "code",
   "execution_count": 9,
   "id": "a965fb01",
   "metadata": {},
   "outputs": [
    {
     "data": {
      "text/plain": [
       "Air temperature        0\n",
       "Process temperature    0\n",
       "Rotational speed       0\n",
       "Torque                 0\n",
       "Tool wear              0\n",
       "Failure Type           0\n",
       "dtype: int64"
      ]
     },
     "execution_count": 9,
     "metadata": {},
     "output_type": "execute_result"
    }
   ],
   "source": [
    "# Check Missing Value\n",
    "df.isnull().sum()"
   ]
  },
  {
   "cell_type": "markdown",
   "id": "47043e08",
   "metadata": {},
   "source": [
    "## 4. Data Transformation"
   ]
  },
  {
   "cell_type": "markdown",
   "id": "a68c27cb",
   "metadata": {},
   "source": [
    "### Resampling with SMOTE"
   ]
  },
  {
   "cell_type": "markdown",
   "id": "bc2249f8",
   "metadata": {},
   "source": [
    "SMOTENC (Synthetic Minority Over-sampling Technique) is an over-sampling technique used to balance the class distribution of an imbalanced dataset by generating synthetic samples in the minority class.\n",
    "\n",
    "SMOTENC uses a nearest neighbors approach to generate synthetic samples, and can be used to balance imbalanced datasets in a variety of classification and regression problems."
   ]
  },
  {
   "cell_type": "code",
   "execution_count": 10,
   "id": "5c94817f",
   "metadata": {},
   "outputs": [],
   "source": [
    "from imblearn.over_sampling import SMOTENC"
   ]
  },
  {
   "cell_type": "code",
   "execution_count": 11,
   "id": "2e1c9583",
   "metadata": {},
   "outputs": [
    {
     "name": "stdout",
     "output_type": "stream",
     "text": [
      "n_working:  355\n"
     ]
    }
   ],
   "source": [
    "n_working = df['Failure Type'].size\n",
    "print('n_working: ',n_working)"
   ]
  },
  {
   "cell_type": "code",
   "execution_count": 12,
   "id": "fd96a08a",
   "metadata": {},
   "outputs": [
    {
     "name": "stdout",
     "output_type": "stream",
     "text": [
      "desired_length:  500\n",
      "spc:  125\n",
      "SMOTENC:  SMOTENC(categorical_features=[0, 5], random_state=0,\n",
      "        sampling_strategy={'Heat Dissipation Failure': 125,\n",
      "                           'Overstrain Failure': 125, 'Power Failure': 125,\n",
      "                           'Tool Wear Failure': 125})\n"
     ]
    }
   ],
   "source": [
    "desired_length = 500\n",
    "print('desired_length: ',desired_length)\n",
    "spc = round(desired_length/4) # sample per class\n",
    "print('spc: ',spc)\n",
    "\n",
    "# resampling\n",
    "balance_cause = {'Overstrain Failure': spc,\n",
    "                 'Heat Dissipation Failure': spc,\n",
    "                 'Power Failure': spc,\n",
    "                 'Tool Wear Failure': spc}\n",
    "\n",
    "sm = SMOTENC(categorical_features=[0,5], sampling_strategy=balance_cause, random_state=0)\n",
    "print('SMOTENC: ',sm)\n",
    "df_res, y_res = sm.fit_resample(df, df['Failure Type'])"
   ]
  },
  {
   "cell_type": "code",
   "execution_count": 13,
   "id": "90a6e979",
   "metadata": {},
   "outputs": [],
   "source": [
    "fail_res_percentage = 100*df_res['Failure Type'].value_counts()/df_res.shape[0]"
   ]
  },
  {
   "cell_type": "code",
   "execution_count": 14,
   "id": "cad5e7ad",
   "metadata": {},
   "outputs": [
    {
     "data": {
      "text/plain": [
       "<function matplotlib.pyplot.show(close=None, block=None)>"
      ]
     },
     "execution_count": 14,
     "metadata": {},
     "output_type": "execute_result"
    },
    {
     "data": {
      "image/png": "[encoded data removed]",
      "text/plain": [
       "<Figure size 640x480 with 1 Axes>"
      ]
     },
     "metadata": {},
     "output_type": "display_data"
    }
   ],
   "source": [
    "# Show Failure Distribution with Pie Chart\n",
    "\n",
    "plt.title('Distribution of Failure Type Percentage')\n",
    "plt.pie(x=fail_res_percentage.array, labels=fail_res_percentage.index.array,\n",
    "       colors=sns.color_palette('tab10')[0:4], autopct='%.0f%%')\n",
    "plt.show"
   ]
  },
  {
   "cell_type": "markdown",
   "id": "2e8f2778",
   "metadata": {},
   "source": [
    "## 4. Data Transformation"
   ]
  },
  {
   "cell_type": "markdown",
   "id": "e4fa2d59",
   "metadata": {},
   "source": [
    "###  Label Encoding"
   ]
  },
  {
   "cell_type": "code",
   "execution_count": 15,
   "id": "c789bc59",
   "metadata": {},
   "outputs": [
    {
     "data": {
      "text/html": [
       "<div>\n",
       "<style scoped>\n",
       "    .dataframe tbody tr th:only-of-type {\n",
       "        vertical-align: middle;\n",
       "    }\n",
       "\n",
       "    .dataframe tbody tr th {\n",
       "        vertical-align: top;\n",
       "    }\n",
       "\n",
       "    .dataframe thead th {\n",
       "        text-align: right;\n",
       "    }\n",
       "</style>\n",
       "<table border=\"1\" class=\"dataframe\">\n",
       "  <thead>\n",
       "    <tr style=\"text-align: right;\">\n",
       "      <th></th>\n",
       "      <th>Air temperature</th>\n",
       "      <th>Process temperature</th>\n",
       "      <th>Rotational speed</th>\n",
       "      <th>Torque</th>\n",
       "      <th>Tool wear</th>\n",
       "      <th>Failure Type</th>\n",
       "    </tr>\n",
       "  </thead>\n",
       "  <tbody>\n",
       "    <tr>\n",
       "      <th>0</th>\n",
       "      <td>298.9</td>\n",
       "      <td>309.1</td>\n",
       "      <td>2861.0</td>\n",
       "      <td>4.6</td>\n",
       "      <td>143.0</td>\n",
       "      <td>Power Failure</td>\n",
       "    </tr>\n",
       "    <tr>\n",
       "      <th>1</th>\n",
       "      <td>298.9</td>\n",
       "      <td>309.0</td>\n",
       "      <td>1410.0</td>\n",
       "      <td>65.7</td>\n",
       "      <td>191.0</td>\n",
       "      <td>Power Failure</td>\n",
       "    </tr>\n",
       "  </tbody>\n",
       "</table>\n",
       "</div>"
      ],
      "text/plain": [
       "   Air temperature  Process temperature  Rotational speed  Torque  Tool wear  \\\n",
       "0            298.9                309.1            2861.0     4.6      143.0   \n",
       "1            298.9                309.0            1410.0    65.7      191.0   \n",
       "\n",
       "    Failure Type  \n",
       "0  Power Failure  \n",
       "1  Power Failure  "
      ]
     },
     "execution_count": 15,
     "metadata": {},
     "output_type": "execute_result"
    }
   ],
   "source": [
    "cause_dict = {\n",
    "              \"Heat Dissipation Failure\": 1,\n",
    "              \"Power Failure\": 2,\n",
    "              \"Overstrain Failure\": 3,\n",
    "              \"Tool Wear Failure\": 4}\n",
    "df_pre = df_res.copy()\n",
    "df_pre.head(2)"
   ]
  },
  {
   "cell_type": "code",
   "execution_count": 16,
   "id": "ab780623",
   "metadata": {},
   "outputs": [
    {
     "data": {
      "text/html": [
       "<div>\n",
       "<style scoped>\n",
       "    .dataframe tbody tr th:only-of-type {\n",
       "        vertical-align: middle;\n",
       "    }\n",
       "\n",
       "    .dataframe tbody tr th {\n",
       "        vertical-align: top;\n",
       "    }\n",
       "\n",
       "    .dataframe thead th {\n",
       "        text-align: right;\n",
       "    }\n",
       "</style>\n",
       "<table border=\"1\" class=\"dataframe\">\n",
       "  <thead>\n",
       "    <tr style=\"text-align: right;\">\n",
       "      <th></th>\n",
       "      <th>Air temperature</th>\n",
       "      <th>Process temperature</th>\n",
       "      <th>Rotational speed</th>\n",
       "      <th>Torque</th>\n",
       "      <th>Tool wear</th>\n",
       "      <th>Failure Type</th>\n",
       "    </tr>\n",
       "  </thead>\n",
       "  <tbody>\n",
       "    <tr>\n",
       "      <th>0</th>\n",
       "      <td>298.9</td>\n",
       "      <td>309.1</td>\n",
       "      <td>2861.0</td>\n",
       "      <td>4.6</td>\n",
       "      <td>143.0</td>\n",
       "      <td>2</td>\n",
       "    </tr>\n",
       "    <tr>\n",
       "      <th>1</th>\n",
       "      <td>298.9</td>\n",
       "      <td>309.0</td>\n",
       "      <td>1410.0</td>\n",
       "      <td>65.7</td>\n",
       "      <td>191.0</td>\n",
       "      <td>2</td>\n",
       "    </tr>\n",
       "  </tbody>\n",
       "</table>\n",
       "</div>"
      ],
      "text/plain": [
       "   Air temperature  Process temperature  Rotational speed  Torque  Tool wear  \\\n",
       "0            298.9                309.1            2861.0     4.6      143.0   \n",
       "1            298.9                309.0            1410.0    65.7      191.0   \n",
       "\n",
       "   Failure Type  \n",
       "0             2  \n",
       "1             2  "
      ]
     },
     "execution_count": 16,
     "metadata": {},
     "output_type": "execute_result"
    }
   ],
   "source": [
    "#Encoding\n",
    "df_pre['Failure Type'].replace(to_replace=cause_dict, inplace=True)\n",
    "df_pre.head(2)"
   ]
  },
  {
   "cell_type": "code",
   "execution_count": 17,
   "id": "96fa18ee",
   "metadata": {},
   "outputs": [
    {
     "data": {
      "text/plain": [
       "2    125\n",
       "4    125\n",
       "3    125\n",
       "1    125\n",
       "Name: Failure Type, dtype: int64"
      ]
     },
     "execution_count": 17,
     "metadata": {},
     "output_type": "execute_result"
    }
   ],
   "source": [
    "df_pre['Failure Type'].value_counts()"
   ]
  },
  {
   "cell_type": "markdown",
   "id": "31dff0e4",
   "metadata": {},
   "source": [
    "## 5. Train Test Split"
   ]
  },
  {
   "cell_type": "code",
   "execution_count": 18,
   "id": "4c096c42",
   "metadata": {},
   "outputs": [],
   "source": [
    "from sklearn.model_selection import train_test_split"
   ]
  },
  {
   "cell_type": "code",
   "execution_count": 19,
   "id": "f4aca2eb",
   "metadata": {},
   "outputs": [
    {
     "data": {
      "text/plain": [
       "['Air temperature',\n",
       " 'Process temperature',\n",
       " 'Rotational speed',\n",
       " 'Torque',\n",
       " 'Tool wear']"
      ]
     },
     "execution_count": 19,
     "metadata": {},
     "output_type": "execute_result"
    }
   ],
   "source": [
    "# Create list of feature\n",
    "features = [col for col in df.columns\n",
    "           if df[col].dtype == 'float64']\n",
    "features"
   ]
  },
  {
   "cell_type": "code",
   "execution_count": 20,
   "id": "dfaf8632",
   "metadata": {},
   "outputs": [
    {
     "data": {
      "text/plain": [
       "['Failure Type']"
      ]
     },
     "execution_count": 20,
     "metadata": {},
     "output_type": "execute_result"
    }
   ],
   "source": [
    "# Create list of target names\n",
    "target = ['Failure Type']\n",
    "target"
   ]
  },
  {
   "cell_type": "code",
   "execution_count": 21,
   "id": "bb99ca5f",
   "metadata": {},
   "outputs": [
    {
     "data": {
      "text/html": [
       "<div>\n",
       "<style scoped>\n",
       "    .dataframe tbody tr th:only-of-type {\n",
       "        vertical-align: middle;\n",
       "    }\n",
       "\n",
       "    .dataframe tbody tr th {\n",
       "        vertical-align: top;\n",
       "    }\n",
       "\n",
       "    .dataframe thead th {\n",
       "        text-align: right;\n",
       "    }\n",
       "</style>\n",
       "<table border=\"1\" class=\"dataframe\">\n",
       "  <thead>\n",
       "    <tr style=\"text-align: right;\">\n",
       "      <th></th>\n",
       "      <th>Air temperature</th>\n",
       "      <th>Process temperature</th>\n",
       "      <th>Rotational speed</th>\n",
       "      <th>Torque</th>\n",
       "      <th>Tool wear</th>\n",
       "    </tr>\n",
       "  </thead>\n",
       "  <tbody>\n",
       "    <tr>\n",
       "      <th>0</th>\n",
       "      <td>298.9</td>\n",
       "      <td>309.1</td>\n",
       "      <td>2861.0</td>\n",
       "      <td>4.6</td>\n",
       "      <td>143.0</td>\n",
       "    </tr>\n",
       "    <tr>\n",
       "      <th>1</th>\n",
       "      <td>298.9</td>\n",
       "      <td>309.0</td>\n",
       "      <td>1410.0</td>\n",
       "      <td>65.7</td>\n",
       "      <td>191.0</td>\n",
       "    </tr>\n",
       "  </tbody>\n",
       "</table>\n",
       "</div>"
      ],
      "text/plain": [
       "   Air temperature  Process temperature  Rotational speed  Torque  Tool wear\n",
       "0            298.9                309.1            2861.0     4.6      143.0\n",
       "1            298.9                309.0            1410.0    65.7      191.0"
      ]
     },
     "execution_count": 21,
     "metadata": {},
     "output_type": "execute_result"
    }
   ],
   "source": [
    "X, y = df_pre[features], df_pre['Failure Type']\n",
    "X.head(2)"
   ]
  },
  {
   "cell_type": "code",
   "execution_count": 22,
   "id": "b8ade012",
   "metadata": {},
   "outputs": [],
   "source": [
    "# train-validation-test split\n",
    "X_train, X_testval, y_train, y_testval = train_test_split(X, y, test_size=0.2, random_state=0)\n",
    "X_test, X_val, y_test, y_val = train_test_split(X_testval, y_testval, test_size=0.5,random_state=0)"
   ]
  },
  {
   "cell_type": "code",
   "execution_count": 23,
   "id": "a5a6da98",
   "metadata": {},
   "outputs": [
    {
     "name": "stdout",
     "output_type": "stream",
     "text": [
      "All data:  500  |  100.0 %\n",
      "Train data:  400  |  80.0 %\n",
      "Test data:  50  |  10.0 %\n",
      "Val data:  50  |  10.0 %\n"
     ]
    }
   ],
   "source": [
    "print(\"All data: \",len(X),\" | \",(len(X)/len(X))*100 ,\"%\")\n",
    "print(\"Train data: \",len(X_train),\" | \",round(((len(X_train)/len(X))*100),ndigits=2) ,\"%\")\n",
    "print(\"Test data: \",len(X_test),\" | \",round(((len(X_test)/len(X))*100),ndigits=2) ,\"%\")\n",
    "print(\"Val data: \",len(X_val),\" | \",round(((len(X_val)/len(X))*100),ndigits=2) ,\"%\")"
   ]
  },
  {
   "cell_type": "markdown",
   "id": "57ac0975",
   "metadata": {},
   "source": [
    "## 6. Model Training and Evaluation"
   ]
  },
  {
   "cell_type": "code",
   "execution_count": 24,
   "id": "21bcf2cd",
   "metadata": {},
   "outputs": [],
   "source": [
    "import warnings\n",
    "warnings.filterwarnings(\"ignore\", category=UserWarning)\n",
    "warnings.simplefilter(action='ignore')"
   ]
  },
  {
   "cell_type": "code",
   "execution_count": 25,
   "id": "b6a577de",
   "metadata": {},
   "outputs": [],
   "source": [
    "from sklearn.metrics import accuracy_score,classification_report,confusion_matrix,plot_confusion_matrix"
   ]
  },
  {
   "cell_type": "code",
   "execution_count": 26,
   "id": "0f2c3627",
   "metadata": {},
   "outputs": [
    {
     "name": "stdout",
     "output_type": "stream",
     "text": [
      "Logistic Regression\n",
      "\u001b[1m--------------------------------------------------------\u001b[0m\n",
      "Model Accuracy Score : 84.0 %\n",
      "Validation Accuracy    : 88.0 %\n",
      "Training Accuracy    : 89.75 %\n",
      "\u001b[1m--------------------------------------------------------\u001b[0m\n",
      "Classification_Report: \n",
      "               precision    recall  f1-score   support\n",
      "\n",
      "           1       1.00      0.86      0.92        14\n",
      "           2       0.90      0.90      0.90        10\n",
      "           3       0.76      0.76      0.76        17\n",
      "           4       0.73      0.89      0.80         9\n",
      "\n",
      "    accuracy                           0.84        50\n",
      "   macro avg       0.85      0.85      0.85        50\n",
      "weighted avg       0.85      0.84      0.84        50\n",
      "\n",
      "\u001b[1m--------------------------------------------------------\u001b[0m\n"
     ]
    },
    {
     "data": {
      "image/png": "[encoded data removed]",
      "text/plain": [
       "<Figure size 640x480 with 2 Axes>"
      ]
     },
     "metadata": {},
     "output_type": "display_data"
    }
   ],
   "source": [
    "# Logistic Regression\n",
    "from sklearn.linear_model import LogisticRegression\n",
    "logreg = LogisticRegression()\n",
    "logreg.fit(X_train, y_train)\n",
    "y_pred_lr = logreg.predict(X_test)\n",
    "\n",
    "log_val = round(logreg.score(X_val, y_val) * 100, 2)\n",
    "log_train = round(logreg.score(X_train, y_train) * 100, 2)\n",
    "log_accuracy = round(accuracy_score(y_pred_lr, y_test) * 100, 2)\n",
    "\n",
    "print(\"Logistic Regression\")\n",
    "print(\"\\033[1m--------------------------------------------------------\\033[0m\")\n",
    "print(\"Model Accuracy Score :\",log_accuracy ,\"%\")\n",
    "print(\"Validation Accuracy    :\",log_val ,\"%\")\n",
    "print(\"Training Accuracy    :\",log_train ,\"%\")\n",
    "print(\"\\033[1m--------------------------------------------------------\\033[0m\")\n",
    "print(\"Classification_Report: \\n\",classification_report(y_test,y_pred_lr))\n",
    "print(\"\\033[1m--------------------------------------------------------\\033[0m\")\n",
    "plot_confusion_matrix(logreg, X_test, y_test);\n",
    "plt.title('Confusion Matrix');"
   ]
  },
  {
   "cell_type": "code",
   "execution_count": 27,
   "id": "91c8b39c",
   "metadata": {},
   "outputs": [
    {
     "name": "stdout",
     "output_type": "stream",
     "text": [
      "K-Nearest Neighbors\n",
      "\u001b[1m--------------------------------------------------------\u001b[0m\n",
      "Model Accuracy Score : 78.0 %\n",
      "Validation Accuracy    : 80.0 %\n",
      "Training Accuracy    : 87.75 %\n",
      "\u001b[1m--------------------------------------------------------\u001b[0m\n",
      "Classification_Report: \n",
      "               precision    recall  f1-score   support\n",
      "\n",
      "           1       0.73      0.79      0.76        14\n",
      "           2       0.71      0.50      0.59        10\n",
      "           3       0.83      0.88      0.86        17\n",
      "           4       0.80      0.89      0.84         9\n",
      "\n",
      "    accuracy                           0.78        50\n",
      "   macro avg       0.77      0.76      0.76        50\n",
      "weighted avg       0.78      0.78      0.77        50\n",
      "\n",
      "\u001b[1m--------------------------------------------------------\u001b[0m\n"
     ]
    },
    {
     "data": {
      "image/png": "[encoded data removed]",
      "text/plain": [
       "<Figure size 640x480 with 2 Axes>"
      ]
     },
     "metadata": {},
     "output_type": "display_data"
    }
   ],
   "source": [
    "# K Nearest Neighbors\n",
    "from sklearn.neighbors import KNeighborsClassifier\n",
    "knn = KNeighborsClassifier(n_neighbors=4)\n",
    "knn.fit(X_train, y_train)\n",
    "y_pred_knn = knn.predict(X_test)\n",
    "\n",
    "knn_val = round(knn.score(X_val, y_val) * 100, 2)\n",
    "knn_train = round(knn.score(X_train, y_train) * 100, 2)\n",
    "knn_accuracy = round(accuracy_score(y_pred_knn, y_test) * 100, 2)\n",
    "\n",
    "print(\"K-Nearest Neighbors\")\n",
    "print(\"\\033[1m--------------------------------------------------------\\033[0m\")\n",
    "print(\"Model Accuracy Score :\",knn_accuracy ,\"%\")\n",
    "print(\"Validation Accuracy    :\",knn_val ,\"%\")\n",
    "print(\"Training Accuracy    :\",knn_train ,\"%\")\n",
    "print(\"\\033[1m--------------------------------------------------------\\033[0m\")\n",
    "print(\"Classification_Report: \\n\",classification_report(y_test,y_pred_knn))\n",
    "print(\"\\033[1m--------------------------------------------------------\\033[0m\")\n",
    "plot_confusion_matrix(knn, X_test, y_test);\n",
    "plt.title('Confusion Matrix');"
   ]
  },
  {
   "cell_type": "code",
   "execution_count": 28,
   "id": "8c0176d8",
   "metadata": {},
   "outputs": [
    {
     "name": "stdout",
     "output_type": "stream",
     "text": [
      "Support Vector Machines\n",
      "\u001b[1m--------------------------------------------------------\u001b[0m\n",
      "Model Accuracy Score : 74.0 %\n",
      "Validation Accuracy    : 60.0 %\n",
      "Training Accuracy    : 63.5 %\n",
      "\u001b[1m--------------------------------------------------------\u001b[0m\n",
      "Classification_Report: \n",
      "               precision    recall  f1-score   support\n",
      "\n",
      "           1       0.64      0.64      0.64        14\n",
      "           2       1.00      0.30      0.46        10\n",
      "           3       0.68      1.00      0.81        17\n",
      "           4       1.00      0.89      0.94         9\n",
      "\n",
      "    accuracy                           0.74        50\n",
      "   macro avg       0.83      0.71      0.71        50\n",
      "weighted avg       0.79      0.74      0.72        50\n",
      "\n",
      "\u001b[1m--------------------------------------------------------\u001b[0m\n"
     ]
    },
    {
     "data": {
      "image/png": "[encoded data removed]",
      "text/plain": [
       "<Figure size 640x480 with 2 Axes>"
      ]
     },
     "metadata": {},
     "output_type": "display_data"
    }
   ],
   "source": [
    "# Support Vector Machines\n",
    "from sklearn.svm import SVC\n",
    "svc = SVC()\n",
    "svc.fit(X_train, y_train)\n",
    "y_pred_svc = svc.predict(X_test)\n",
    "\n",
    "svc_val = round(svc.score(X_val, y_val) * 100, 2)\n",
    "svc_train = round(svc.score(X_train, y_train) * 100, 2)\n",
    "svc_accuracy = round(accuracy_score(y_pred_svc, y_test) * 100, 2)\n",
    "\n",
    "print(\"Support Vector Machines\")\n",
    "print(\"\\033[1m--------------------------------------------------------\\033[0m\")\n",
    "print(\"Model Accuracy Score :\",svc_accuracy ,\"%\")\n",
    "print(\"Validation Accuracy    :\",svc_val ,\"%\")\n",
    "print(\"Training Accuracy    :\",svc_train ,\"%\")\n",
    "print(\"\\033[1m--------------------------------------------------------\\033[0m\")\n",
    "print(\"Classification_Report: \\n\",classification_report(y_test,y_pred_svc))\n",
    "print(\"\\033[1m--------------------------------------------------------\\033[0m\")\n",
    "plot_confusion_matrix(svc, X_test, y_test);\n",
    "plt.title('Confusion Matrix');"
   ]
  },
  {
   "cell_type": "code",
   "execution_count": 29,
   "id": "73a94bf2",
   "metadata": {},
   "outputs": [
    {
     "name": "stdout",
     "output_type": "stream",
     "text": [
      "Decision Tree\n",
      "\u001b[1m--------------------------------------------------------\u001b[0m\n",
      "Model Accuracy Score : 86.0 %\n",
      "Validation Accuracy    : 90.0 %\n",
      "Training Accuracy    : 100.0 %\n",
      "\u001b[1m--------------------------------------------------------\u001b[0m\n",
      "Classification_Report: \n",
      "               precision    recall  f1-score   support\n",
      "\n",
      "           1       0.75      0.86      0.80        14\n",
      "           2       0.88      0.70      0.78        10\n",
      "           3       0.94      0.94      0.94        17\n",
      "           4       0.89      0.89      0.89         9\n",
      "\n",
      "    accuracy                           0.86        50\n",
      "   macro avg       0.86      0.85      0.85        50\n",
      "weighted avg       0.86      0.86      0.86        50\n",
      "\n",
      "\u001b[1m--------------------------------------------------------\u001b[0m\n"
     ]
    },
    {
     "data": {
      "image/png": "[encoded data removed]",
      "text/plain": [
       "<Figure size 640x480 with 2 Axes>"
      ]
     },
     "metadata": {},
     "output_type": "display_data"
    }
   ],
   "source": [
    "# Decision Tree\n",
    "from sklearn.tree import DecisionTreeClassifier\n",
    "decision = DecisionTreeClassifier()\n",
    "decision.fit(X_train, y_train)\n",
    "y_pred_dec = decision.predict(X_test)\n",
    "\n",
    "decision_val = round(decision.score(X_val, y_val) * 100, 2)\n",
    "decision_train = round(decision.score(X_train, y_train) * 100, 2)\n",
    "decision_accuracy = round(accuracy_score(y_pred_dec, y_test) * 100, 2)\n",
    "\n",
    "print(\"Decision Tree\")\n",
    "print(\"\\033[1m--------------------------------------------------------\\033[0m\")\n",
    "print(\"Model Accuracy Score :\",decision_accuracy ,\"%\")\n",
    "print(\"Validation Accuracy    :\",decision_val ,\"%\")\n",
    "print(\"Training Accuracy    :\",decision_train ,\"%\")\n",
    "print(\"\\033[1m--------------------------------------------------------\\033[0m\")\n",
    "print(\"Classification_Report: \\n\",classification_report(y_test,y_pred_dec))\n",
    "print(\"\\033[1m--------------------------------------------------------\\033[0m\")\n",
    "plot_confusion_matrix(decision, X_test, y_test);\n",
    "plt.title('Confusion Matrix');"
   ]
  },
  {
   "cell_type": "code",
   "execution_count": 30,
   "id": "9aa5144a",
   "metadata": {},
   "outputs": [
    {
     "name": "stdout",
     "output_type": "stream",
     "text": [
      "Random Forest\n",
      "\u001b[1m--------------------------------------------------------\u001b[0m\n",
      "Model Accuracy Score : 100.0 %\n",
      "Validation Accuracy    : 90.0 %\n",
      "Training Accuracy    : 100.0 %\n",
      "\u001b[1m--------------------------------------------------------\u001b[0m\n",
      "Classification_Report: \n",
      "               precision    recall  f1-score   support\n",
      "\n",
      "           1       1.00      1.00      1.00        14\n",
      "           2       1.00      1.00      1.00        10\n",
      "           3       1.00      1.00      1.00        17\n",
      "           4       1.00      1.00      1.00         9\n",
      "\n",
      "    accuracy                           1.00        50\n",
      "   macro avg       1.00      1.00      1.00        50\n",
      "weighted avg       1.00      1.00      1.00        50\n",
      "\n",
      "\u001b[1m--------------------------------------------------------\u001b[0m\n"
     ]
    },
    {
     "data": {
      "image/png": "[encoded data removed]",
      "text/plain": [
       "<Figure size 640x480 with 2 Axes>"
      ]
     },
     "metadata": {},
     "output_type": "display_data"
    }
   ],
   "source": [
    "# Random Forest\n",
    "from sklearn.ensemble import RandomForestClassifier\n",
    "random_forest = RandomForestClassifier(n_estimators=100)\n",
    "random_forest.fit(X_train, y_train)\n",
    "y_pred_rf = random_forest.predict(X_test)\n",
    "\n",
    "rf_val = round(random_forest.score(X_val, y_val) * 100, 2)\n",
    "rf_train = round(random_forest.score(X_train, y_train) * 100, 2)\n",
    "rf_accuracy = round(accuracy_score(y_pred_rf, y_test) * 100, 2)\n",
    "\n",
    "print(\"Random Forest\")\n",
    "print(\"\\033[1m--------------------------------------------------------\\033[0m\")\n",
    "print(\"Model Accuracy Score :\",rf_accuracy ,\"%\")\n",
    "print(\"Validation Accuracy    :\",rf_val ,\"%\")\n",
    "print(\"Training Accuracy    :\",rf_train ,\"%\")\n",
    "print(\"\\033[1m--------------------------------------------------------\\033[0m\")\n",
    "print(\"Classification_Report: \\n\",classification_report(y_test,y_pred_rf))\n",
    "print(\"\\033[1m--------------------------------------------------------\\033[0m\")\n",
    "plot_confusion_matrix(random_forest, X_test, y_test);\n",
    "plt.title('Confusion Matrix');"
   ]
  },
  {
   "cell_type": "code",
   "execution_count": 31,
   "id": "96b17d9c",
   "metadata": {},
   "outputs": [
    {
     "name": "stdout",
     "output_type": "stream",
     "text": [
      "eXtreme Gradient Boosting\n",
      "\u001b[1m--------------------------------------------------------\u001b[0m\n",
      "Model Accuracy Score : 98.0 %\n",
      "Validation Accuracy    : 94.0 %\n",
      "Training Accuracy    : 100.0 %\n",
      "\u001b[1m--------------------------------------------------------\u001b[0m\n",
      "Classification_Report: \n",
      "               precision    recall  f1-score   support\n",
      "\n",
      "           1       0.93      1.00      0.97        14\n",
      "           2       1.00      1.00      1.00        10\n",
      "           3       1.00      0.94      0.97        17\n",
      "           4       1.00      1.00      1.00         9\n",
      "\n",
      "    accuracy                           0.98        50\n",
      "   macro avg       0.98      0.99      0.98        50\n",
      "weighted avg       0.98      0.98      0.98        50\n",
      "\n",
      "\u001b[1m--------------------------------------------------------\u001b[0m\n"
     ]
    },
    {
     "data": {
      "image/png": "[encoded data removed]",
      "text/plain": [
       "<Figure size 640x480 with 2 Axes>"
      ]
     },
     "metadata": {},
     "output_type": "display_data"
    }
   ],
   "source": [
    "# XGBoost\n",
    "from xgboost import XGBClassifier\n",
    "xgb = XGBClassifier(eval_metric='mlogloss')\n",
    "xgb.fit(X_train, y_train)\n",
    "y_pred_xgb = xgb.predict(X_test)\n",
    "\n",
    "xgb_val = round(xgb.score(X_val, y_val) * 100, 2)\n",
    "xgb_train = round(xgb.score(X_train, y_train) * 100, 2)\n",
    "xgb_accuracy = round(accuracy_score(y_pred_xgb, y_test) * 100, 2)\n",
    "\n",
    "print(\"eXtreme Gradient Boosting\")\n",
    "print(\"\\033[1m--------------------------------------------------------\\033[0m\")\n",
    "print(\"Model Accuracy Score :\",xgb_accuracy ,\"%\")\n",
    "print(\"Validation Accuracy    :\",xgb_val ,\"%\")\n",
    "print(\"Training Accuracy    :\",xgb_train ,\"%\")\n",
    "print(\"\\033[1m--------------------------------------------------------\\033[0m\")\n",
    "print(\"Classification_Report: \\n\",classification_report(y_test,y_pred_xgb))\n",
    "print(\"\\033[1m--------------------------------------------------------\\033[0m\")\n",
    "plot_confusion_matrix(xgb, X_test, y_test);\n",
    "plt.title('Confusion Matrix');"
   ]
  },
  {
   "cell_type": "markdown",
   "id": "c96bac4e",
   "metadata": {},
   "source": [
    "### XGBoost Tree"
   ]
  },
  {
   "cell_type": "code",
   "execution_count": 32,
   "id": "7f744df6",
   "metadata": {},
   "outputs": [
    {
     "data": {
      "image/png": "[encoded data removed]",
      "text/plain": [
       "<IPython.core.display.Image object>"
      ]
     },
     "execution_count": 32,
     "metadata": {},
     "output_type": "execute_result"
    }
   ],
   "source": [
    "from IPython.display import Image\n",
    "import xgboost as xgb\n",
    "\n",
    "# build and fit the XGBoost model\n",
    "clf_xgb = xgb.XGBClassifier(eval_metric='mlogloss', learning_rate=0.1, \n",
    "                            max_depth=5, n_estimators=100, \n",
    "                            objective='multi:softprob')\n",
    "clf_xgb.fit(X_train.values, y_train.values)\n",
    "\n",
    "# get the first tree of the model\n",
    "bst = clf_xgb.get_booster()\n",
    "node_params = {'shape': 'box',\n",
    "              'style': 'filled, rounded',\n",
    "              'fillcolor': '#78cbe'}\n",
    "leaf_params = {'shape': 'box',\n",
    "              'style': 'filled',\n",
    "               'fillcolor':'#e48038'}\n",
    "tree = xgb.to_graphviz(bst, num_trees=0, size=\"10,10\",\n",
    "                       condition_node_params=node_params,\n",
    "                       leaf_node_params=leaf_params)\n",
    "\n",
    "# display the tree\n",
    "Image(tree.render(format='png'))"
   ]
  },
  {
   "cell_type": "markdown",
   "id": "efc578e6",
   "metadata": {},
   "source": [
    "### Test New Data"
   ]
  },
  {
   "cell_type": "code",
   "execution_count": 33,
   "id": "9d5ee5c3",
   "metadata": {},
   "outputs": [
    {
     "data": {
      "text/html": [
       "<style>#sk-container-id-1 {color: black;background-color: white;}#sk-container-id-1 pre{padding: 0;}#sk-container-id-1 div.sk-toggleable {background-color: white;}#sk-container-id-1 label.sk-toggleable__label {cursor: pointer;display: block;width: 100%;margin-bottom: 0;padding: 0.3em;box-sizing: border-box;text-align: center;}#sk-container-id-1 label.sk-toggleable__label-arrow:before {content: \"▸\";float: left;margin-right: 0.25em;color: #696969;}#sk-container-id-1 label.sk-toggleable__label-arrow:hover:before {color: black;}#sk-container-id-1 div.sk-estimator:hover label.sk-toggleable__label-arrow:before {color: black;}#sk-container-id-1 div.sk-toggleable__content {max-height: 0;max-width: 0;overflow: hidden;text-align: left;background-color: #f0f8ff;}#sk-container-id-1 div.sk-toggleable__content pre {margin: 0.2em;color: black;border-radius: 0.25em;background-color: #f0f8ff;}#sk-container-id-1 input.sk-toggleable__control:checked~div.sk-toggleable__content {max-height: 200px;max-width: 100%;overflow: auto;}#sk-container-id-1 input.sk-toggleable__control:checked~label.sk-toggleable__label-arrow:before {content: \"▾\";}#sk-container-id-1 div.sk-estimator input.sk-toggleable__control:checked~label.sk-toggleable__label {background-color: #d4ebff;}#sk-container-id-1 div.sk-label input.sk-toggleable__control:checked~label.sk-toggleable__label {background-color: #d4ebff;}#sk-container-id-1 input.sk-hidden--visually {border: 0;clip: rect(1px 1px 1px 1px);clip: rect(1px, 1px, 1px, 1px);height: 1px;margin: -1px;overflow: hidden;padding: 0;position: absolute;width: 1px;}#sk-container-id-1 div.sk-estimator {font-family: monospace;background-color: #f0f8ff;border: 1px dotted black;border-radius: 0.25em;box-sizing: border-box;margin-bottom: 0.5em;}#sk-container-id-1 div.sk-estimator:hover {background-color: #d4ebff;}#sk-container-id-1 div.sk-parallel-item::after {content: \"\";width: 100%;border-bottom: 1px solid gray;flex-grow: 1;}#sk-container-id-1 div.sk-label:hover label.sk-toggleable__label {background-color: #d4ebff;}#sk-container-id-1 div.sk-serial::before {content: \"\";position: absolute;border-left: 1px solid gray;box-sizing: border-box;top: 0;bottom: 0;left: 50%;z-index: 0;}#sk-container-id-1 div.sk-serial {display: flex;flex-direction: column;align-items: center;background-color: white;padding-right: 0.2em;padding-left: 0.2em;position: relative;}#sk-container-id-1 div.sk-item {position: relative;z-index: 1;}#sk-container-id-1 div.sk-parallel {display: flex;align-items: stretch;justify-content: center;background-color: white;position: relative;}#sk-container-id-1 div.sk-item::before, #sk-container-id-1 div.sk-parallel-item::before {content: \"\";position: absolute;border-left: 1px solid gray;box-sizing: border-box;top: 0;bottom: 0;left: 50%;z-index: -1;}#sk-container-id-1 div.sk-parallel-item {display: flex;flex-direction: column;z-index: 1;position: relative;background-color: white;}#sk-container-id-1 div.sk-parallel-item:first-child::after {align-self: flex-end;width: 50%;}#sk-container-id-1 div.sk-parallel-item:last-child::after {align-self: flex-start;width: 50%;}#sk-container-id-1 div.sk-parallel-item:only-child::after {width: 0;}#sk-container-id-1 div.sk-dashed-wrapped {border: 1px dashed gray;margin: 0 0.4em 0.5em 0.4em;box-sizing: border-box;padding-bottom: 0.4em;background-color: white;}#sk-container-id-1 div.sk-label label {font-family: monospace;font-weight: bold;display: inline-block;line-height: 1.2em;}#sk-container-id-1 div.sk-label-container {text-align: center;}#sk-container-id-1 div.sk-container {/* jupyter's `normalize.less` sets `[hidden] { display: none; }` but bootstrap.min.css set `[hidden] { display: none !important; }` so we also need the `!important` here to be able to override the default hidden behavior on the sphinx rendered scikit-learn.org. See: https://github.com/scikit-learn/scikit-learn/issues/21755 */display: inline-block !important;position: relative;}#sk-container-id-1 div.sk-text-repr-fallback {display: none;}</style><div id=\"sk-container-id-1\" class=\"sk-top-container\"><div class=\"sk-text-repr-fallback\"><pre>XGBClassifier(base_score=0.5, booster=&#x27;gbtree&#x27;, colsample_bylevel=1,\n",
       "              colsample_bynode=1, colsample_bytree=1, enable_categorical=False,\n",
       "              eval_metric=&#x27;mlogloss&#x27;, gamma=0, gpu_id=-1, importance_type=None,\n",
       "              interaction_constraints=&#x27;&#x27;, learning_rate=0.1, max_delta_step=0,\n",
       "              max_depth=5, min_child_weight=1, missing=nan,\n",
       "              monotone_constraints=&#x27;()&#x27;, n_estimators=100, n_jobs=8,\n",
       "              num_parallel_tree=1, objective=&#x27;multi:softprob&#x27;, predictor=&#x27;auto&#x27;,\n",
       "              random_state=0, reg_alpha=0, reg_lambda=1, scale_pos_weight=None,\n",
       "              subsample=1, tree_method=&#x27;exact&#x27;, validate_parameters=1,\n",
       "              verbosity=None)</pre><b>In a Jupyter environment, please rerun this cell to show the HTML representation or trust the notebook. <br />On GitHub, the HTML representation is unable to render, please try loading this page with nbviewer.org.</b></div><div class=\"sk-container\" hidden><div class=\"sk-item\"><div class=\"sk-estimator sk-toggleable\"><input class=\"sk-toggleable__control sk-hidden--visually\" id=\"sk-estimator-id-1\" type=\"checkbox\" checked><label for=\"sk-estimator-id-1\" class=\"sk-toggleable__label sk-toggleable__label-arrow\">XGBClassifier</label><div class=\"sk-toggleable__content\"><pre>XGBClassifier(base_score=0.5, booster=&#x27;gbtree&#x27;, colsample_bylevel=1,\n",
       "              colsample_bynode=1, colsample_bytree=1, enable_categorical=False,\n",
       "              eval_metric=&#x27;mlogloss&#x27;, gamma=0, gpu_id=-1, importance_type=None,\n",
       "              interaction_constraints=&#x27;&#x27;, learning_rate=0.1, max_delta_step=0,\n",
       "              max_depth=5, min_child_weight=1, missing=nan,\n",
       "              monotone_constraints=&#x27;()&#x27;, n_estimators=100, n_jobs=8,\n",
       "              num_parallel_tree=1, objective=&#x27;multi:softprob&#x27;, predictor=&#x27;auto&#x27;,\n",
       "              random_state=0, reg_alpha=0, reg_lambda=1, scale_pos_weight=None,\n",
       "              subsample=1, tree_method=&#x27;exact&#x27;, validate_parameters=1,\n",
       "              verbosity=None)</pre></div></div></div></div></div>"
      ],
      "text/plain": [
       "XGBClassifier(base_score=0.5, booster='gbtree', colsample_bylevel=1,\n",
       "              colsample_bynode=1, colsample_bytree=1, enable_categorical=False,\n",
       "              eval_metric='mlogloss', gamma=0, gpu_id=-1, importance_type=None,\n",
       "              interaction_constraints='', learning_rate=0.1, max_delta_step=0,\n",
       "              max_depth=5, min_child_weight=1, missing=nan,\n",
       "              monotone_constraints='()', n_estimators=100, n_jobs=8,\n",
       "              num_parallel_tree=1, objective='multi:softprob', predictor='auto',\n",
       "              random_state=0, reg_alpha=0, reg_lambda=1, scale_pos_weight=None,\n",
       "              subsample=1, tree_method='exact', validate_parameters=1,\n",
       "              verbosity=None)"
      ]
     },
     "execution_count": 33,
     "metadata": {},
     "output_type": "execute_result"
    }
   ],
   "source": [
    "xgb_model = XGBClassifier(eval_metric = 'mlogloss', learning_rate = 0.1, \n",
    "                      max_depth = 5, n_estimators = 100, \n",
    "                      objective = 'multi:softsprob')\n",
    "\n",
    "xgb_model.fit(X_train.values, y_train.values)"
   ]
  },
  {
   "cell_type": "code",
   "execution_count": 34,
   "id": "ad3670d5",
   "metadata": {},
   "outputs": [
    {
     "data": {
      "text/html": [
       "<div>\n",
       "<style scoped>\n",
       "    .dataframe tbody tr th:only-of-type {\n",
       "        vertical-align: middle;\n",
       "    }\n",
       "\n",
       "    .dataframe tbody tr th {\n",
       "        vertical-align: top;\n",
       "    }\n",
       "\n",
       "    .dataframe thead th {\n",
       "        text-align: right;\n",
       "    }\n",
       "</style>\n",
       "<table border=\"1\" class=\"dataframe\">\n",
       "  <thead>\n",
       "    <tr style=\"text-align: right;\">\n",
       "      <th></th>\n",
       "      <th>Air temperature</th>\n",
       "      <th>Process temperature</th>\n",
       "      <th>Rotational speed</th>\n",
       "      <th>Torque</th>\n",
       "      <th>Tool wear</th>\n",
       "      <th>Failure Type</th>\n",
       "    </tr>\n",
       "  </thead>\n",
       "  <tbody>\n",
       "    <tr>\n",
       "      <th>107</th>\n",
       "      <td>302.1</td>\n",
       "      <td>311.0</td>\n",
       "      <td>1351.0</td>\n",
       "      <td>60.3</td>\n",
       "      <td>207.0</td>\n",
       "      <td>3</td>\n",
       "    </tr>\n",
       "    <tr>\n",
       "      <th>336</th>\n",
       "      <td>299.1</td>\n",
       "      <td>309.8</td>\n",
       "      <td>1398.0</td>\n",
       "      <td>55.4</td>\n",
       "      <td>217.0</td>\n",
       "      <td>3</td>\n",
       "    </tr>\n",
       "  </tbody>\n",
       "</table>\n",
       "</div>"
      ],
      "text/plain": [
       "     Air temperature  Process temperature  Rotational speed  Torque  \\\n",
       "107            302.1                311.0            1351.0    60.3   \n",
       "336            299.1                309.8            1398.0    55.4   \n",
       "\n",
       "     Tool wear  Failure Type  \n",
       "107      207.0             3  \n",
       "336      217.0             3  "
      ]
     },
     "execution_count": 34,
     "metadata": {},
     "output_type": "execute_result"
    }
   ],
   "source": [
    "df_new_train = X_train.copy()\n",
    "df_new_train['Failure Type'] = y_train\n",
    "df_new_train.head(2)"
   ]
  },
  {
   "cell_type": "code",
   "execution_count": 35,
   "id": "9372baa7",
   "metadata": {},
   "outputs": [
    {
     "data": {
      "text/plain": [
       "[[302.2, 310.6, 1355, 51.5, 126],\n",
       " [301.8, 310.3, 1341, 50.5, 64],\n",
       " [303.3, 310.9, 1377, 46.8, 166],\n",
       " [301.7, 310.2, 1331, 57.4, 40],\n",
       " [302, 310.4, 1212, 55.6, 79]]"
      ]
     },
     "execution_count": 35,
     "metadata": {},
     "output_type": "execute_result"
    }
   ],
   "source": [
    "new_data_hdf = [\n",
    "                [302.2,310.6,1355,51.5,126], # HDF - 1\n",
    "                [301.8,310.3,1341,50.5,64], # HDF - 1\n",
    "                [303.3,310.9,1377,46.8,166],\n",
    "                [301.7,310.2,1331,57.4,40],\n",
    "                [302,310.4,1212,55.6,79]\n",
    "               ]\n",
    "new_data_hdf"
   ]
  },
  {
   "cell_type": "code",
   "execution_count": 36,
   "id": "fac3c44e",
   "metadata": {},
   "outputs": [
    {
     "data": {
      "text/plain": [
       "[[302.2, 310.6, 1355, 51.5, 126],\n",
       " [301.8, 310.3, 1341, 50.5, 64],\n",
       " [303.3, 310.9, 1377, 46.8, 166],\n",
       " [301.7, 310.2, 1331, 57.4, 40],\n",
       " [302, 310.4, 1212, 55.6, 79]]"
      ]
     },
     "execution_count": 36,
     "metadata": {},
     "output_type": "execute_result"
    }
   ],
   "source": [
    "new_data_pwf = [\n",
    "                [298.9,309.1,2861,4.6,143], # PWF - 2\n",
    "                [300.7,310.9,1356,65.3,66], # PWF - 2\n",
    "                [297.5,308.3,2564,12.8,127],\n",
    "                [298.8,310.1,1243,74.5,194],\n",
    "                [298.9,310.2,2737,8.8,142]\n",
    "               ]\n",
    "new_data_hdf"
   ]
  },
  {
   "cell_type": "code",
   "execution_count": 37,
   "id": "00d46920",
   "metadata": {},
   "outputs": [
    {
     "data": {
      "text/plain": [
       "[[298.5, 309.4, 1360, 60.9, 187],\n",
       " [301, 311.1, 1236, 64.4, 177],\n",
       " [299, 310.4, 1365, 49.1, 226],\n",
       " [300.5, 309.3, 1299, 65.1, 212],\n",
       " [302.7, 312.4, 1477, 46.3, 251]]"
      ]
     },
     "execution_count": 37,
     "metadata": {},
     "output_type": "execute_result"
    }
   ],
   "source": [
    "new_data_osf = [\n",
    "                [298.5,309.4,1360,60.9,187], # OSF - 3\n",
    "                [301,311.1,1236,64.4,177], #OSF - 3\n",
    "                [299,310.4,1365,49.1,226],\n",
    "                [300.5,309.3,1299,65.1,212],\n",
    "                [302.7,312.4,1477,46.3,251]\n",
    "               ]\n",
    "new_data_osf"
   ]
  },
  {
   "cell_type": "code",
   "execution_count": 38,
   "id": "7479e61d",
   "metadata": {},
   "outputs": [
    {
     "data": {
      "text/plain": [
       "[[298.8, 308.9, 1455, 41.3, 208],\n",
       " [300.5, 309.9, 1397, 45.9, 210],\n",
       " [301, 311.1, 1236, 64.4, 177],\n",
       " [302.2, 311.3, 1530, 37.3, 207],\n",
       " [299.6, 309.2, 1867, 23.4, 225]]"
      ]
     },
     "execution_count": 38,
     "metadata": {},
     "output_type": "execute_result"
    }
   ],
   "source": [
    "new_data_twf = [\n",
    "                [298.8,308.9,1455,41.3,208], # TWF - 4\n",
    "                [300.5,309.9,1397,45.9,210], # TWF - 4\n",
    "                [301,311.1,1236,64.4,177],\n",
    "                [302.2,311.3,1530,37.3,207],\n",
    "                [299.6,309.2,1867,23.4,225]\n",
    "               ]\n",
    "new_data_twf"
   ]
  },
  {
   "cell_type": "code",
   "execution_count": 39,
   "id": "4cfefa42",
   "metadata": {},
   "outputs": [
    {
     "data": {
      "text/plain": [
       "['HD Fail', 'PW Fail', 'OS Fail', 'TW Fail']"
      ]
     },
     "execution_count": 39,
     "metadata": {},
     "output_type": "execute_result"
    }
   ],
   "source": [
    "ft_name = ['HD Fail','PW Fail','OS Fail','TW Fail']\n",
    "ft_name"
   ]
  },
  {
   "cell_type": "code",
   "execution_count": 40,
   "id": "9c0d2067",
   "metadata": {},
   "outputs": [
    {
     "data": {
      "text/plain": [
       "[[[302.2, 310.6, 1355, 51.5, 126],\n",
       "  [301.8, 310.3, 1341, 50.5, 64],\n",
       "  [303.3, 310.9, 1377, 46.8, 166],\n",
       "  [301.7, 310.2, 1331, 57.4, 40],\n",
       "  [302, 310.4, 1212, 55.6, 79]],\n",
       " [[298.9, 309.1, 2861, 4.6, 143],\n",
       "  [300.7, 310.9, 1356, 65.3, 66],\n",
       "  [297.5, 308.3, 2564, 12.8, 127],\n",
       "  [298.8, 310.1, 1243, 74.5, 194],\n",
       "  [298.9, 310.2, 2737, 8.8, 142]],\n",
       " [[298.5, 309.4, 1360, 60.9, 187],\n",
       "  [301, 311.1, 1236, 64.4, 177],\n",
       "  [299, 310.4, 1365, 49.1, 226],\n",
       "  [300.5, 309.3, 1299, 65.1, 212],\n",
       "  [302.7, 312.4, 1477, 46.3, 251]],\n",
       " [[298.8, 308.9, 1455, 41.3, 208],\n",
       "  [300.5, 309.9, 1397, 45.9, 210],\n",
       "  [301, 311.1, 1236, 64.4, 177],\n",
       "  [302.2, 311.3, 1530, 37.3, 207],\n",
       "  [299.6, 309.2, 1867, 23.4, 225]]]"
      ]
     },
     "execution_count": 40,
     "metadata": {},
     "output_type": "execute_result"
    }
   ],
   "source": [
    "# Combine data\n",
    "ft = [new_data_hdf,new_data_pwf ,new_data_osf ,new_data_twf ]\n",
    "ft"
   ]
  },
  {
   "cell_type": "code",
   "execution_count": 41,
   "id": "ce026747",
   "metadata": {},
   "outputs": [
    {
     "name": "stdout",
     "output_type": "stream",
     "text": [
      "PREDICTION SUMMARY:\n",
      "\n",
      "HD Fail \t: [1 1 1 1 1]\n",
      "Success Rate\t: (5/5) \t 100.0 %\n",
      "PW Fail \t: [2 2 2 2 2]\n",
      "Success Rate\t: (5/5) \t 100.0 %\n",
      "OS Fail \t: [3 3 3 3 3]\n",
      "Success Rate\t: (5/5) \t 100.0 %\n",
      "TW Fail \t: [4 4 3 4 4]\n",
      "Success Rate\t: (4/5) \t 80.0 %\n"
     ]
    }
   ],
   "source": [
    "# Predicting\n",
    "print(\"PREDICTION SUMMARY:\\n\")\n",
    "for i in range (0,4):\n",
    "    test_predictions_all = xgb_model.predict(ft[i])\n",
    "    print(ft_name[i],\"\\t:\",test_predictions_all)\n",
    "    correct_no = 0\n",
    "    for j in test_predictions_all:\n",
    "        #print(test_predictions_all[i])\n",
    "        if ft_name[i] == ft_name[i] and test_predictions_all[j] == j :\n",
    "            correct_no += 1\n",
    "            #print(ft_name[i],\" prediction success\")\n",
    "        #else:\n",
    "            #print(ft_name[i],\" prediction failed\")\n",
    "    print(\n",
    "          \"Success Rate\\t:\",\n",
    "          \"(%s/%s) \\t\"%(correct_no,len(test_predictions_all)),\n",
    "          correct_no/len(test_predictions_all)*100,\"%\",\n",
    "         )"
   ]
  },
  {
   "cell_type": "markdown",
   "id": "47a0607a",
   "metadata": {},
   "source": [
    "## 7. Model Deployment"
   ]
  },
  {
   "cell_type": "markdown",
   "id": "6e670fa4",
   "metadata": {},
   "source": [
    "### Save Model"
   ]
  },
  {
   "cell_type": "code",
   "execution_count": 42,
   "id": "e2ea082a",
   "metadata": {},
   "outputs": [],
   "source": [
    "import joblib"
   ]
  },
  {
   "cell_type": "code",
   "execution_count": 43,
   "id": "478d3d58",
   "metadata": {},
   "outputs": [
    {
     "data": {
      "text/html": [
       "<style>#sk-container-id-2 {color: black;background-color: white;}#sk-container-id-2 pre{padding: 0;}#sk-container-id-2 div.sk-toggleable {background-color: white;}#sk-container-id-2 label.sk-toggleable__label {cursor: pointer;display: block;width: 100%;margin-bottom: 0;padding: 0.3em;box-sizing: border-box;text-align: center;}#sk-container-id-2 label.sk-toggleable__label-arrow:before {content: \"▸\";float: left;margin-right: 0.25em;color: #696969;}#sk-container-id-2 label.sk-toggleable__label-arrow:hover:before {color: black;}#sk-container-id-2 div.sk-estimator:hover label.sk-toggleable__label-arrow:before {color: black;}#sk-container-id-2 div.sk-toggleable__content {max-height: 0;max-width: 0;overflow: hidden;text-align: left;background-color: #f0f8ff;}#sk-container-id-2 div.sk-toggleable__content pre {margin: 0.2em;color: black;border-radius: 0.25em;background-color: #f0f8ff;}#sk-container-id-2 input.sk-toggleable__control:checked~div.sk-toggleable__content {max-height: 200px;max-width: 100%;overflow: auto;}#sk-container-id-2 input.sk-toggleable__control:checked~label.sk-toggleable__label-arrow:before {content: \"▾\";}#sk-container-id-2 div.sk-estimator input.sk-toggleable__control:checked~label.sk-toggleable__label {background-color: #d4ebff;}#sk-container-id-2 div.sk-label input.sk-toggleable__control:checked~label.sk-toggleable__label {background-color: #d4ebff;}#sk-container-id-2 input.sk-hidden--visually {border: 0;clip: rect(1px 1px 1px 1px);clip: rect(1px, 1px, 1px, 1px);height: 1px;margin: -1px;overflow: hidden;padding: 0;position: absolute;width: 1px;}#sk-container-id-2 div.sk-estimator {font-family: monospace;background-color: #f0f8ff;border: 1px dotted black;border-radius: 0.25em;box-sizing: border-box;margin-bottom: 0.5em;}#sk-container-id-2 div.sk-estimator:hover {background-color: #d4ebff;}#sk-container-id-2 div.sk-parallel-item::after {content: \"\";width: 100%;border-bottom: 1px solid gray;flex-grow: 1;}#sk-container-id-2 div.sk-label:hover label.sk-toggleable__label {background-color: #d4ebff;}#sk-container-id-2 div.sk-serial::before {content: \"\";position: absolute;border-left: 1px solid gray;box-sizing: border-box;top: 0;bottom: 0;left: 50%;z-index: 0;}#sk-container-id-2 div.sk-serial {display: flex;flex-direction: column;align-items: center;background-color: white;padding-right: 0.2em;padding-left: 0.2em;position: relative;}#sk-container-id-2 div.sk-item {position: relative;z-index: 1;}#sk-container-id-2 div.sk-parallel {display: flex;align-items: stretch;justify-content: center;background-color: white;position: relative;}#sk-container-id-2 div.sk-item::before, #sk-container-id-2 div.sk-parallel-item::before {content: \"\";position: absolute;border-left: 1px solid gray;box-sizing: border-box;top: 0;bottom: 0;left: 50%;z-index: -1;}#sk-container-id-2 div.sk-parallel-item {display: flex;flex-direction: column;z-index: 1;position: relative;background-color: white;}#sk-container-id-2 div.sk-parallel-item:first-child::after {align-self: flex-end;width: 50%;}#sk-container-id-2 div.sk-parallel-item:last-child::after {align-self: flex-start;width: 50%;}#sk-container-id-2 div.sk-parallel-item:only-child::after {width: 0;}#sk-container-id-2 div.sk-dashed-wrapped {border: 1px dashed gray;margin: 0 0.4em 0.5em 0.4em;box-sizing: border-box;padding-bottom: 0.4em;background-color: white;}#sk-container-id-2 div.sk-label label {font-family: monospace;font-weight: bold;display: inline-block;line-height: 1.2em;}#sk-container-id-2 div.sk-label-container {text-align: center;}#sk-container-id-2 div.sk-container {/* jupyter's `normalize.less` sets `[hidden] { display: none; }` but bootstrap.min.css set `[hidden] { display: none !important; }` so we also need the `!important` here to be able to override the default hidden behavior on the sphinx rendered scikit-learn.org. See: https://github.com/scikit-learn/scikit-learn/issues/21755 */display: inline-block !important;position: relative;}#sk-container-id-2 div.sk-text-repr-fallback {display: none;}</style><div id=\"sk-container-id-2\" class=\"sk-top-container\"><div class=\"sk-text-repr-fallback\"><pre>XGBClassifier(base_score=0.5, booster=&#x27;gbtree&#x27;, colsample_bylevel=1,\n",
       "              colsample_bynode=1, colsample_bytree=1, enable_categorical=False,\n",
       "              eval_metric=&#x27;mlogloss&#x27;, gamma=0, gpu_id=-1, importance_type=None,\n",
       "              interaction_constraints=&#x27;&#x27;, learning_rate=0.1, max_delta_step=0,\n",
       "              max_depth=5, min_child_weight=1, missing=nan,\n",
       "              monotone_constraints=&#x27;()&#x27;, n_estimators=100, n_jobs=8,\n",
       "              num_parallel_tree=1, objective=&#x27;multi:softprob&#x27;, predictor=&#x27;auto&#x27;,\n",
       "              random_state=0, reg_alpha=0, reg_lambda=1, scale_pos_weight=None,\n",
       "              subsample=1, tree_method=&#x27;exact&#x27;, validate_parameters=1,\n",
       "              verbosity=None)</pre><b>In a Jupyter environment, please rerun this cell to show the HTML representation or trust the notebook. <br />On GitHub, the HTML representation is unable to render, please try loading this page with nbviewer.org.</b></div><div class=\"sk-container\" hidden><div class=\"sk-item\"><div class=\"sk-estimator sk-toggleable\"><input class=\"sk-toggleable__control sk-hidden--visually\" id=\"sk-estimator-id-2\" type=\"checkbox\" checked><label for=\"sk-estimator-id-2\" class=\"sk-toggleable__label sk-toggleable__label-arrow\">XGBClassifier</label><div class=\"sk-toggleable__content\"><pre>XGBClassifier(base_score=0.5, booster=&#x27;gbtree&#x27;, colsample_bylevel=1,\n",
       "              colsample_bynode=1, colsample_bytree=1, enable_categorical=False,\n",
       "              eval_metric=&#x27;mlogloss&#x27;, gamma=0, gpu_id=-1, importance_type=None,\n",
       "              interaction_constraints=&#x27;&#x27;, learning_rate=0.1, max_delta_step=0,\n",
       "              max_depth=5, min_child_weight=1, missing=nan,\n",
       "              monotone_constraints=&#x27;()&#x27;, n_estimators=100, n_jobs=8,\n",
       "              num_parallel_tree=1, objective=&#x27;multi:softprob&#x27;, predictor=&#x27;auto&#x27;,\n",
       "              random_state=0, reg_alpha=0, reg_lambda=1, scale_pos_weight=None,\n",
       "              subsample=1, tree_method=&#x27;exact&#x27;, validate_parameters=1,\n",
       "              verbosity=None)</pre></div></div></div></div></div>"
      ],
      "text/plain": [
       "XGBClassifier(base_score=0.5, booster='gbtree', colsample_bylevel=1,\n",
       "              colsample_bynode=1, colsample_bytree=1, enable_categorical=False,\n",
       "              eval_metric='mlogloss', gamma=0, gpu_id=-1, importance_type=None,\n",
       "              interaction_constraints='', learning_rate=0.1, max_delta_step=0,\n",
       "              max_depth=5, min_child_weight=1, missing=nan,\n",
       "              monotone_constraints='()', n_estimators=100, n_jobs=8,\n",
       "              num_parallel_tree=1, objective='multi:softprob', predictor='auto',\n",
       "              random_state=0, reg_alpha=0, reg_lambda=1, scale_pos_weight=None,\n",
       "              subsample=1, tree_method='exact', validate_parameters=1,\n",
       "              verbosity=None)"
      ]
     },
     "execution_count": 43,
     "metadata": {},
     "output_type": "execute_result"
    }
   ],
   "source": [
    "xgb_model = XGBClassifier(eval_metric = 'mlogloss', learning_rate = 0.1, \n",
    "                      max_depth = 5, n_estimators = 100, \n",
    "                      objective = 'multi:softsprob')\n",
    "\n",
    "xgb_model.fit(X_train.values, y_train.values)"
   ]
  },
  {
   "cell_type": "code",
   "execution_count": 44,
   "id": "4ab220bc",
   "metadata": {},
   "outputs": [],
   "source": [
    "#  If you’d like to store or archive your model for long-term storage\n",
    "\n",
    "xgb_model.save_model('adis_model_xgboost.pkl')"
   ]
  },
  {
   "cell_type": "code",
   "execution_count": 45,
   "id": "e9348ffa",
   "metadata": {},
   "outputs": [
    {
     "data": {
      "text/plain": [
       "['adis_col_names.pkl']"
      ]
     },
     "execution_count": 45,
     "metadata": {},
     "output_type": "execute_result"
    }
   ],
   "source": [
    "# save feature columns name\n",
    "\n",
    "feature_col = list(X_train.columns)\n",
    "joblib.dump(feature_col,'adis_col_names.pkl')"
   ]
  },
  {
   "cell_type": "code",
   "execution_count": 46,
   "id": "7e3021c7",
   "metadata": {},
   "outputs": [
    {
     "data": {
      "text/plain": [
       "['Air temperature',\n",
       " 'Process temperature',\n",
       " 'Rotational speed',\n",
       " 'Torque',\n",
       " 'Tool wear']"
      ]
     },
     "execution_count": 46,
     "metadata": {},
     "output_type": "execute_result"
    }
   ],
   "source": [
    "new_columns = joblib.load('adis_col_names.pkl')\n",
    "new_columns"
   ]
  },
  {
   "cell_type": "code",
   "execution_count": 47,
   "id": "92ffc133",
   "metadata": {},
   "outputs": [
    {
     "data": {
      "text/html": [
       "<style>#sk-container-id-3 {color: black;background-color: white;}#sk-container-id-3 pre{padding: 0;}#sk-container-id-3 div.sk-toggleable {background-color: white;}#sk-container-id-3 label.sk-toggleable__label {cursor: pointer;display: block;width: 100%;margin-bottom: 0;padding: 0.3em;box-sizing: border-box;text-align: center;}#sk-container-id-3 label.sk-toggleable__label-arrow:before {content: \"▸\";float: left;margin-right: 0.25em;color: #696969;}#sk-container-id-3 label.sk-toggleable__label-arrow:hover:before {color: black;}#sk-container-id-3 div.sk-estimator:hover label.sk-toggleable__label-arrow:before {color: black;}#sk-container-id-3 div.sk-toggleable__content {max-height: 0;max-width: 0;overflow: hidden;text-align: left;background-color: #f0f8ff;}#sk-container-id-3 div.sk-toggleable__content pre {margin: 0.2em;color: black;border-radius: 0.25em;background-color: #f0f8ff;}#sk-container-id-3 input.sk-toggleable__control:checked~div.sk-toggleable__content {max-height: 200px;max-width: 100%;overflow: auto;}#sk-container-id-3 input.sk-toggleable__control:checked~label.sk-toggleable__label-arrow:before {content: \"▾\";}#sk-container-id-3 div.sk-estimator input.sk-toggleable__control:checked~label.sk-toggleable__label {background-color: #d4ebff;}#sk-container-id-3 div.sk-label input.sk-toggleable__control:checked~label.sk-toggleable__label {background-color: #d4ebff;}#sk-container-id-3 input.sk-hidden--visually {border: 0;clip: rect(1px 1px 1px 1px);clip: rect(1px, 1px, 1px, 1px);height: 1px;margin: -1px;overflow: hidden;padding: 0;position: absolute;width: 1px;}#sk-container-id-3 div.sk-estimator {font-family: monospace;background-color: #f0f8ff;border: 1px dotted black;border-radius: 0.25em;box-sizing: border-box;margin-bottom: 0.5em;}#sk-container-id-3 div.sk-estimator:hover {background-color: #d4ebff;}#sk-container-id-3 div.sk-parallel-item::after {content: \"\";width: 100%;border-bottom: 1px solid gray;flex-grow: 1;}#sk-container-id-3 div.sk-label:hover label.sk-toggleable__label {background-color: #d4ebff;}#sk-container-id-3 div.sk-serial::before {content: \"\";position: absolute;border-left: 1px solid gray;box-sizing: border-box;top: 0;bottom: 0;left: 50%;z-index: 0;}#sk-container-id-3 div.sk-serial {display: flex;flex-direction: column;align-items: center;background-color: white;padding-right: 0.2em;padding-left: 0.2em;position: relative;}#sk-container-id-3 div.sk-item {position: relative;z-index: 1;}#sk-container-id-3 div.sk-parallel {display: flex;align-items: stretch;justify-content: center;background-color: white;position: relative;}#sk-container-id-3 div.sk-item::before, #sk-container-id-3 div.sk-parallel-item::before {content: \"\";position: absolute;border-left: 1px solid gray;box-sizing: border-box;top: 0;bottom: 0;left: 50%;z-index: -1;}#sk-container-id-3 div.sk-parallel-item {display: flex;flex-direction: column;z-index: 1;position: relative;background-color: white;}#sk-container-id-3 div.sk-parallel-item:first-child::after {align-self: flex-end;width: 50%;}#sk-container-id-3 div.sk-parallel-item:last-child::after {align-self: flex-start;width: 50%;}#sk-container-id-3 div.sk-parallel-item:only-child::after {width: 0;}#sk-container-id-3 div.sk-dashed-wrapped {border: 1px dashed gray;margin: 0 0.4em 0.5em 0.4em;box-sizing: border-box;padding-bottom: 0.4em;background-color: white;}#sk-container-id-3 div.sk-label label {font-family: monospace;font-weight: bold;display: inline-block;line-height: 1.2em;}#sk-container-id-3 div.sk-label-container {text-align: center;}#sk-container-id-3 div.sk-container {/* jupyter's `normalize.less` sets `[hidden] { display: none; }` but bootstrap.min.css set `[hidden] { display: none !important; }` so we also need the `!important` here to be able to override the default hidden behavior on the sphinx rendered scikit-learn.org. See: https://github.com/scikit-learn/scikit-learn/issues/21755 */display: inline-block !important;position: relative;}#sk-container-id-3 div.sk-text-repr-fallback {display: none;}</style><div id=\"sk-container-id-3\" class=\"sk-top-container\"><div class=\"sk-text-repr-fallback\"><pre>XGBClassifier(base_score=0.5, booster=&#x27;gbtree&#x27;, colsample_bylevel=1,\n",
       "              colsample_bynode=1, colsample_bytree=1, enable_categorical=False,\n",
       "              eval_metric=&#x27;mlogloss&#x27;, gamma=0, gpu_id=-1, importance_type=None,\n",
       "              interaction_constraints=&#x27;&#x27;, learning_rate=0.1, max_delta_step=0,\n",
       "              max_depth=5, min_child_weight=1, missing=nan,\n",
       "              monotone_constraints=&#x27;()&#x27;, n_estimators=100, n_jobs=8,\n",
       "              num_parallel_tree=1, objective=&#x27;multi:softprob&#x27;, predictor=&#x27;auto&#x27;,\n",
       "              random_state=0, reg_alpha=0, reg_lambda=1, scale_pos_weight=None,\n",
       "              subsample=1, tree_method=&#x27;auto&#x27;, validate_parameters=1,\n",
       "              verbosity=None)</pre><b>In a Jupyter environment, please rerun this cell to show the HTML representation or trust the notebook. <br />On GitHub, the HTML representation is unable to render, please try loading this page with nbviewer.org.</b></div><div class=\"sk-container\" hidden><div class=\"sk-item\"><div class=\"sk-estimator sk-toggleable\"><input class=\"sk-toggleable__control sk-hidden--visually\" id=\"sk-estimator-id-3\" type=\"checkbox\" checked><label for=\"sk-estimator-id-3\" class=\"sk-toggleable__label sk-toggleable__label-arrow\">XGBClassifier</label><div class=\"sk-toggleable__content\"><pre>XGBClassifier(base_score=0.5, booster=&#x27;gbtree&#x27;, colsample_bylevel=1,\n",
       "              colsample_bynode=1, colsample_bytree=1, enable_categorical=False,\n",
       "              eval_metric=&#x27;mlogloss&#x27;, gamma=0, gpu_id=-1, importance_type=None,\n",
       "              interaction_constraints=&#x27;&#x27;, learning_rate=0.1, max_delta_step=0,\n",
       "              max_depth=5, min_child_weight=1, missing=nan,\n",
       "              monotone_constraints=&#x27;()&#x27;, n_estimators=100, n_jobs=8,\n",
       "              num_parallel_tree=1, objective=&#x27;multi:softprob&#x27;, predictor=&#x27;auto&#x27;,\n",
       "              random_state=0, reg_alpha=0, reg_lambda=1, scale_pos_weight=None,\n",
       "              subsample=1, tree_method=&#x27;auto&#x27;, validate_parameters=1,\n",
       "              verbosity=None)</pre></div></div></div></div></div>"
      ],
      "text/plain": [
       "XGBClassifier(base_score=0.5, booster='gbtree', colsample_bylevel=1,\n",
       "              colsample_bynode=1, colsample_bytree=1, enable_categorical=False,\n",
       "              eval_metric='mlogloss', gamma=0, gpu_id=-1, importance_type=None,\n",
       "              interaction_constraints='', learning_rate=0.1, max_delta_step=0,\n",
       "              max_depth=5, min_child_weight=1, missing=nan,\n",
       "              monotone_constraints='()', n_estimators=100, n_jobs=8,\n",
       "              num_parallel_tree=1, objective='multi:softprob', predictor='auto',\n",
       "              random_state=0, reg_alpha=0, reg_lambda=1, scale_pos_weight=None,\n",
       "              subsample=1, tree_method='auto', validate_parameters=1,\n",
       "              verbosity=None)"
      ]
     },
     "execution_count": 47,
     "metadata": {},
     "output_type": "execute_result"
    }
   ],
   "source": [
    "# load model\n",
    "loaded_xgb_model = XGBClassifier()\n",
    "loaded_xgb_model.load_model('adis_model_xgboost.pkl')\n",
    "loaded_xgb_model"
   ]
  },
  {
   "cell_type": "code",
   "execution_count": 48,
   "id": "95aa58b2",
   "metadata": {},
   "outputs": [
    {
     "data": {
      "text/plain": [
       "[[302.2, 310.6, 1355, 51.5, 126],\n",
       " [300.7, 310.9, 1356, 65.3, 66],\n",
       " [298.5, 309.4, 1360, 60.9, 187],\n",
       " [298.8, 308.9, 1455, 41.3, 208]]"
      ]
     },
     "execution_count": 48,
     "metadata": {},
     "output_type": "execute_result"
    }
   ],
   "source": [
    "new_data_all = [\n",
    "                [302.2,310.6,1355,51.5,126], # HDF - 1\n",
    "                [300.7,310.9,1356,65.3,66], # PWF - 2\n",
    "                [298.5,309.4,1360,60.9,187], # OSF - 3\n",
    "                [298.8,308.9,1455,41.3,208], # TWF - 4\n",
    "              ]\n",
    "new_data_all"
   ]
  },
  {
   "cell_type": "code",
   "execution_count": 49,
   "id": "60a88d58",
   "metadata": {},
   "outputs": [
    {
     "data": {
      "text/plain": [
       "array([1, 2, 3, 4])"
      ]
     },
     "execution_count": 49,
     "metadata": {},
     "output_type": "execute_result"
    }
   ],
   "source": [
    "# Predicting\n",
    "test_predictions_all = loaded_xgb_model.predict(new_data_all)\n",
    "test_predictions_all"
   ]
  },
  {
   "cell_type": "code",
   "execution_count": null,
   "id": "2c03f128",
   "metadata": {},
   "outputs": [],
   "source": []
  }
 ],
 "metadata": {
  "kernelspec": {
   "display_name": "Python 3 (ipykernel)",
   "language": "python",
   "name": "python3"
  },
  "language_info": {
   "codemirror_mode": {
    "name": "ipython",
    "version": 3
   },
   "file_extension": ".py",
   "mimetype": "text/x-python",
   "name": "python",
   "nbconvert_exporter": "python",
   "pygments_lexer": "ipython3",
   "version": "3.9.13"
  }
 },
 "nbformat": 4,
 "nbformat_minor": 5
}
